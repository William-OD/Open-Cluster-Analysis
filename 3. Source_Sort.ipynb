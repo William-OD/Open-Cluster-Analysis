{
 "cells": [
  {
   "cell_type": "code",
   "execution_count": 1,
   "metadata": {},
   "outputs": [],
   "source": [
    "import numpy as np\n",
    "import os\n",
    "import pandas as pd"
   ]
  },
  {
   "cell_type": "code",
   "execution_count": 2,
   "metadata": {},
   "outputs": [],
   "source": [
    "#Cluster directories:\n",
    "M35_dir = 'M35'\n",
    "M67_dir = 'M67'\n",
    "M67v2_dir = 'M67v2'\n",
    "NGC869_dir = 'NGC869'\n",
    "\n",
    "#Setting Cluster to process\n",
    "cluster_dir = NGC869_dir  #------------------------------------------!!!!!\n",
    "\n",
    "#Output directories to shared and local folders\n",
    "shared_dir = os.path.join('/data/observatory/student_data/William_ODonnell', cluster_dir)\n",
    "local_dir = cluster_dir"
   ]
  },
  {
   "cell_type": "code",
   "execution_count": 6,
   "metadata": {},
   "outputs": [],
   "source": [
    "Gdf = pd.read_csv(os.path.join(local_dir, \"2. \"+ cluster_dir + '_G_data.csv'))\n",
    "Idf = pd.read_csv(os.path.join(local_dir, \"2. \"+ cluster_dir + '_I_data.csv'))\n",
    "Rdf = pd.read_csv(os.path.join(local_dir, \"2. \"+ cluster_dir + '_R_data.csv'))\n",
    "\n",
    "ID = (Gdf['ID'])\n",
    "RA = (Gdf['Right-Ascension'])\n",
    "DEC = (Gdf['Declination'])\n",
    "G_mag = (Gdf['G_mag'])\n",
    "I_mag = (Idf['I_mag'])\n",
    "R_mag = (Rdf['R_mag'])\n",
    "\n",
    "Final = np.vstack((ID, RA, DEC, G_mag, I_mag, R_mag)).T\n",
    "Final_df = pd.DataFrame(Final, columns = ['ID', 'Right-Ascension', 'Declination', 'G_Mag','I_Mag', 'R_Mag'], dtype = np.float64)\n",
    "Final_df = Final_df.round({'Right-Ascension': 3, 'Declination': 3})\n",
    "Final_df = Final_df.sort_values(by = ['Right-Ascension', 'Declination'], ascending = False )\n",
    "Final_df.to_csv(os.path.join(local_dir, \"3. \" + cluster_dir + \"_Uncalibrated_mags.csv\"))"
   ]
  }
 ],
 "metadata": {
  "kernelspec": {
   "display_name": "A345",
   "language": "python",
   "name": "a345"
  },
  "language_info": {
   "codemirror_mode": {
    "name": "ipython",
    "version": 3
   },
   "file_extension": ".py",
   "mimetype": "text/x-python",
   "name": "python",
   "nbconvert_exporter": "python",
   "pygments_lexer": "ipython3",
   "version": "3.8.6"
  }
 },
 "nbformat": 4,
 "nbformat_minor": 5
}
